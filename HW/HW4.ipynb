{
 "cells": [
  {
   "cell_type": "code",
   "execution_count": 2,
   "metadata": {},
   "outputs": [
    {
     "name": "stdout",
     "output_type": "stream",
     "text": [
      "The generated labels are\n",
      " [ 0.  1.  1.  1.  1.]\n"
     ]
    }
   ],
   "source": [
    "\"\"\"\n",
    "Q3)e) Complete the following python function to generate a vector of random labels y\n",
    "      where y[i]uses the data record in X[i,:], weight vector w and bias b\n",
    "\"\"\"\n",
    "import numpy as np\n",
    "import matplotlib.pyplot as plt\n",
    "%matplotlib inline\n",
    "\n",
    "# Initialisation\n",
    "y = np.zeros((5))\n",
    "z = np.zeros((5))\n",
    "\n",
    "#Given\n",
    "X = np.matrix([[30,0],[50,1],[70,1],[80,2],[100,1]])\n",
    "W = np.array([(1/40),1])\n",
    "b = -1\n",
    "\n",
    "# Function definition\n",
    "def gen_rand(X,W,b):\n",
    "    for i in range(0,X.shape[0]):\n",
    "        z[i] = W[0] * X[i,0] + W[1] * X[i,1] +b\n",
    "        if (z[i]>0):\n",
    "            y[i]=1\n",
    "        else:\n",
    "            y[i]=0\n",
    "    return y\n",
    "\n",
    "#Function call\n",
    "y  = gen_rand(X,W,b)\n",
    "\n",
    "print(\"The generated labels are\\n\",y)"
   ]
  }
 ],
 "metadata": {
  "kernelspec": {
   "display_name": "Python 3",
   "language": "python",
   "name": "python3"
  },
  "language_info": {
   "codemirror_mode": {
    "name": "ipython",
    "version": 3
   },
   "file_extension": ".py",
   "mimetype": "text/x-python",
   "name": "python",
   "nbconvert_exporter": "python",
   "pygments_lexer": "ipython3",
   "version": "3.6.1"
  }
 },
 "nbformat": 4,
 "nbformat_minor": 2
}
