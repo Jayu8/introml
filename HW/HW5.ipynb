{
 "cells": [
  {
   "cell_type": "markdown",
   "metadata": {},
   "source": [
    "#  1 (d)"
   ]
  },
  {
   "cell_type": "code",
   "execution_count": 1,
   "metadata": {
    "collapsed": true
   },
   "outputs": [],
   "source": [
    "import numpy as np\n",
    "import matplotlib.pyplot as plt\n",
    "%matplotlib inline"
   ]
  },
  {
   "cell_type": "code",
   "execution_count": 2,
   "metadata": {
    "collapsed": true
   },
   "outputs": [],
   "source": [
    "class one_d(object):\n",
    "    def __init__(self,X,y):\n",
    "\n",
    "         self.X = X\n",
    "         self.y = y\n",
    "         n = X.shape[0]\n",
    "         self.A = np.column_stack((np.ones(n,), X))\n",
    "\n",
    "    def feval(self,w):\n",
    "     \n",
    " #Compute the loss and gradient for a given weight vector\n",
    "     \n",
    " # The loss is the binary cross entropy\n",
    "         z = self.A.dot(w)\n",
    "         f = np.sum((((self.y)*z - 1)/z)**2)\n",
    "\n",
    " # Gradient\n",
    "         df_dz = np.sum(2*((self.y)*z - 1)/(z**3))\n",
    "         fgrad = self.A.T.dot(df_dz)\n",
    "         return f, fgrad"
   ]
  },
  {
   "cell_type": "markdown",
   "metadata": {},
   "source": [
    "# 3 (c)"
   ]
  },
  {
   "cell_type": "code",
   "execution_count": 3,
   "metadata": {
    "collapsed": true
   },
   "outputs": [],
   "source": [
    "import numpy as np\n",
    "import matplotlib.pyplot as plt\n",
    "%matplotlib inline"
   ]
  },
  {
   "cell_type": "code",
   "execution_count": 4,
   "metadata": {
    "collapsed": true
   },
   "outputs": [],
   "source": [
    "class three_c(object):\n",
    "    def __init__(self,X,y):\n",
    "        self.X = X\n",
    "        self.y = y\n",
    "        m = X.shape[0]\n",
    "        n = X.T.shape[1]\n",
    "        X_T = (self.X).T\n",
    "        self.A = np.zeros((m,n))\n",
    "        for i in range(len(self.X)):\n",
    "        \n",
    "            for j in range(len(X_T[0])):\n",
    "        \n",
    "                for k in range(len(X_T)):\n",
    "         # matrix A is a product of x and its transpose\n",
    "                    self.A[i][j] += X[i][k] * X_T[k][j]\n",
    "\n",
    "        \n",
    "\n",
    "         \n",
    "    def feval(self,P):\n",
    "        \n",
    " \n",
    " #Compute the loss and gradient for a given P matrix\n",
    " \n",
    " # The loss is the binary cross entropy\n",
    "        z = self.X.T.dot(P.dot(self.X))\n",
    "        f = np.sum((z/(self.y))-np.log(z))\n",
    "\n",
    " # Gradient\n",
    "\n",
    " #df_dz = np.sum(((self.A)/self.y)-((self.A)/(z)))\n",
    "        fgrad = np.sum(((self.A)/self.y)-((self.A)/(z)))\n",
    "        return f, fgrad"
   ]
  },
  {
   "cell_type": "markdown",
   "metadata": {},
   "source": [
    "#  3 (d)"
   ]
  },
  {
   "cell_type": "code",
   "execution_count": 5,
   "metadata": {
    "collapsed": true
   },
   "outputs": [],
   "source": [
    "import numpy as np\n",
    "import matplotlib.pyplot as plt\n",
    "%matplotlib inline"
   ]
  },
  {
   "cell_type": "code",
   "execution_count": 6,
   "metadata": {
    "collapsed": true
   },
   "outputs": [],
   "source": [
    "class three_d(object):\n",
    "    def __init__(self,X,y):\n",
    "        \n",
    "\n",
    "        self.X = X\n",
    "        self.y = y\n",
    "        X_T = X.T\n",
    "         # matrix A is a product of x and its transpose\n",
    "        self.A = X[:,None]*X_T[None,:]\n",
    "\n",
    "    def feval(self,P):\n",
    "\n",
    "# Compute the loss and gradient for a given P matrix\n",
    "  # The loss is the binary cross entropy\n",
    "        z = self.X.T.dot(P.dot(self.X))\n",
    "        f = np.sum((z/(self.y))-np.log(z))\n",
    "\n",
    " # Gradient\n",
    "        fgrad = (((self.A)/self.y)-((self.A)/(z)))\n",
    "        return f, fgrad\n",
    "                  "
   ]
  }
 ],
 "metadata": {
  "kernelspec": {
   "display_name": "Python 3",
   "language": "python",
   "name": "python3"
  },
  "language_info": {
   "codemirror_mode": {
    "name": "ipython",
    "version": 3
   },
   "file_extension": ".py",
   "mimetype": "text/x-python",
   "name": "python",
   "nbconvert_exporter": "python",
   "pygments_lexer": "ipython3",
   "version": "3.6.1"
  }
 },
 "nbformat": 4,
 "nbformat_minor": 2
}
