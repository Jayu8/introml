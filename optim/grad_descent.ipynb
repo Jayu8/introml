{
 "cells": [
  {
   "cell_type": "markdown",
   "metadata": {},
   "source": [
    "# Demo:  Gradient Descent Optimization\n",
    "\n",
    "In the [breast cancer demo](../logistic/breast_cancer.ipynb), we used the `sklearn` built-in `LogisticRegression` class to find the weights for the logistic regression problem.   The `fit` routine in that class has an *optimizer* to select the weights to best match the data.  To understand how that optimizer works, in this demo, we will build a very simple gradient descent optimizer from scratch.  You will learn to:\n",
    "* Compute the gradients of a simple loss function and implement the gradient calculations in python\n",
    "* Implement a simple gradient descent optimizer\n",
    "* Visualize the effect of the learning rate in gradient descent\n",
    "* Implement an adaptive learning rate algorithm"
   ]
  },
  {
   "cell_type": "markdown",
   "metadata": {},
   "source": [
    "## Loading the Breast Cancer Data\n",
    "\n",
    "We first load the standard packages."
   ]
  },
  {
   "cell_type": "code",
<<<<<<< HEAD
<<<<<<< HEAD
   "execution_count": 1,
=======
   "execution_count": 7,
>>>>>>> b8dcbeb6477030d3328592a76cac08ff8424fdda
=======
   "execution_count": 1,
>>>>>>> 6c82df020f29da7fbd3f6344662b84994b519c8d
   "metadata": {
    "collapsed": true
   },
   "outputs": [],
   "source": [
    "import numpy as np\n",
    "import matplotlib.pyplot as plt\n",
    "import pandas as pd\n",
    "%matplotlib inline\n",
    "from sklearn import preprocessing"
   ]
  },
  {
   "cell_type": "markdown",
   "metadata": {},
   "source": [
    "We next load the data from the [breast cancer demo](../logistic/breast_cancer.ipynb).  "
   ]
  },
  {
   "cell_type": "code",
<<<<<<< HEAD
<<<<<<< HEAD
   "execution_count": 2,
=======
   "execution_count": 8,
>>>>>>> b8dcbeb6477030d3328592a76cac08ff8424fdda
=======
   "execution_count": 2,
>>>>>>> 6c82df020f29da7fbd3f6344662b84994b519c8d
   "metadata": {},
   "outputs": [
    {
     "data": {
      "text/html": [
       "<div>\n",
       "<style>\n",
       "    .dataframe thead tr:only-child th {\n",
       "        text-align: right;\n",
       "    }\n",
       "\n",
       "    .dataframe thead th {\n",
       "        text-align: left;\n",
       "    }\n",
       "\n",
       "    .dataframe tbody tr th {\n",
       "        vertical-align: top;\n",
       "    }\n",
       "</style>\n",
       "<table border=\"1\" class=\"dataframe\">\n",
       "  <thead>\n",
       "    <tr style=\"text-align: right;\">\n",
       "      <th></th>\n",
       "      <th>id</th>\n",
       "      <th>thick</th>\n",
       "      <th>size_unif</th>\n",
       "      <th>shape_unif</th>\n",
       "      <th>marg</th>\n",
       "      <th>cell_size</th>\n",
       "      <th>bare</th>\n",
       "      <th>chrom</th>\n",
       "      <th>normal</th>\n",
       "      <th>mit</th>\n",
       "      <th>class</th>\n",
       "    </tr>\n",
       "  </thead>\n",
       "  <tbody>\n",
       "    <tr>\n",
       "      <th>0</th>\n",
       "      <td>1000025</td>\n",
       "      <td>5</td>\n",
       "      <td>1</td>\n",
       "      <td>1</td>\n",
       "      <td>1</td>\n",
       "      <td>2</td>\n",
       "      <td>1.0</td>\n",
       "      <td>3</td>\n",
       "      <td>1</td>\n",
       "      <td>1</td>\n",
       "      <td>2</td>\n",
       "    </tr>\n",
       "    <tr>\n",
       "      <th>1</th>\n",
       "      <td>1002945</td>\n",
       "      <td>5</td>\n",
       "      <td>4</td>\n",
       "      <td>4</td>\n",
       "      <td>5</td>\n",
       "      <td>7</td>\n",
       "      <td>10.0</td>\n",
       "      <td>3</td>\n",
       "      <td>2</td>\n",
       "      <td>1</td>\n",
       "      <td>2</td>\n",
       "    </tr>\n",
       "    <tr>\n",
       "      <th>2</th>\n",
       "      <td>1015425</td>\n",
       "      <td>3</td>\n",
       "      <td>1</td>\n",
       "      <td>1</td>\n",
       "      <td>1</td>\n",
       "      <td>2</td>\n",
       "      <td>2.0</td>\n",
       "      <td>3</td>\n",
       "      <td>1</td>\n",
       "      <td>1</td>\n",
       "      <td>2</td>\n",
       "    </tr>\n",
       "    <tr>\n",
       "      <th>3</th>\n",
       "      <td>1016277</td>\n",
       "      <td>6</td>\n",
       "      <td>8</td>\n",
       "      <td>8</td>\n",
       "      <td>1</td>\n",
       "      <td>3</td>\n",
       "      <td>4.0</td>\n",
       "      <td>3</td>\n",
       "      <td>7</td>\n",
       "      <td>1</td>\n",
       "      <td>2</td>\n",
       "    </tr>\n",
       "    <tr>\n",
       "      <th>4</th>\n",
       "      <td>1017023</td>\n",
       "      <td>4</td>\n",
       "      <td>1</td>\n",
       "      <td>1</td>\n",
       "      <td>3</td>\n",
       "      <td>2</td>\n",
       "      <td>1.0</td>\n",
       "      <td>3</td>\n",
       "      <td>1</td>\n",
       "      <td>1</td>\n",
       "      <td>2</td>\n",
       "    </tr>\n",
       "  </tbody>\n",
       "</table>\n",
       "</div>"
      ],
      "text/plain": [
       "        id  thick  size_unif  shape_unif  marg  cell_size  bare  chrom  \\\n",
       "0  1000025      5          1           1     1          2   1.0      3   \n",
       "1  1002945      5          4           4     5          7  10.0      3   \n",
       "2  1015425      3          1           1     1          2   2.0      3   \n",
       "3  1016277      6          8           8     1          3   4.0      3   \n",
       "4  1017023      4          1           1     3          2   1.0      3   \n",
       "\n",
       "   normal  mit  class  \n",
       "0       1    1      2  \n",
       "1       2    1      2  \n",
       "2       1    1      2  \n",
       "3       7    1      2  \n",
       "4       1    1      2  "
      ]
     },
<<<<<<< HEAD
<<<<<<< HEAD
     "execution_count": 2,
=======
     "execution_count": 8,
>>>>>>> b8dcbeb6477030d3328592a76cac08ff8424fdda
=======
     "execution_count": 2,
>>>>>>> 6c82df020f29da7fbd3f6344662b84994b519c8d
     "metadata": {},
     "output_type": "execute_result"
    }
   ],
   "source": [
    "names = ['id','thick','size_unif','shape_unif','marg','cell_size','bare',\n",
    "         'chrom','normal','mit','class']\n",
    "df = pd.read_csv('https://archive.ics.uci.edu/ml/machine-learning-databases/' +\n",
    "                 'breast-cancer-wisconsin/breast-cancer-wisconsin.data',\n",
    "                names=names,na_values='?',header=None)\n",
    "df = df.dropna()\n",
    "df.head()"
   ]
  },
  {
   "cell_type": "markdown",
   "metadata": {},
   "source": [
    "As in the breast cancer demo, we create a data matrix `X` of various features of the breast cancer sample.  The response vector `y` is a binary indicating if each sample is benign or malignant.  "
   ]
  },
  {
   "cell_type": "code",
<<<<<<< HEAD
<<<<<<< HEAD
   "execution_count": 3,
   "metadata": {},
=======
   "execution_count": 9,
=======
   "execution_count": 3,
>>>>>>> 6c82df020f29da7fbd3f6344662b84994b519c8d
   "metadata": {
    "collapsed": true
   },
>>>>>>> b8dcbeb6477030d3328592a76cac08ff8424fdda
   "outputs": [],
   "source": [
    "# Get the predictors\n",
    "xnames = names[1:-1]\n",
    "X = np.array(df[xnames])\n",
    "Xs = preprocessing.scale(X)\n",
    "\n",
    "# Get the response.  Convert to a zero-one indicator \n",
    "yraw = np.array(df['class'])\n",
    "BEN_VAL = 2   # value in the 'class' label for benign samples\n",
    "MAL_VAL = 4   # value in the 'class' label for malignant samples\n",
    "y = (yraw == MAL_VAL).astype(int)"
   ]
  },
  {
   "cell_type": "markdown",
   "metadata": {},
   "source": [
    "We want to learn the classification rule to predict `y` from `X`.  To this end, we first split the data into training and test."
   ]
  },
  {
   "cell_type": "code",
<<<<<<< HEAD
<<<<<<< HEAD
   "execution_count": 4,
=======
   "execution_count": 10,
>>>>>>> b8dcbeb6477030d3328592a76cac08ff8424fdda
=======
   "execution_count": 4,
>>>>>>> 6c82df020f29da7fbd3f6344662b84994b519c8d
   "metadata": {
    "collapsed": true
   },
   "outputs": [],
   "source": [
    "ntr = 400        # number of training samples\n",
    "Xtr = X[:ntr,:]  # training\n",
    "ytr = y[:ntr]\n",
    "Xts = X[ntr:,:]  # test\n",
    "yts = y[ntr:]"
   ]
  },
  {
   "cell_type": "markdown",
   "metadata": {},
   "source": [
    "## Computing the Gradient and Loss Function\n",
    "\n",
    "Recall that training a logistic function means finding a weight vector `w` for the classification rule:\n",
    "\n",
    "    P(y=1|x,w) = 1/(1+\\exp(-z)), z = w[0] + w[1]*x[0] + ... + w[k]x[k-1]\n",
    "    \n",
    "From the class notes in logistic regression, we saw that the weight vector can be found by minimizing  the negative log likelihood.  The negative log likelihood is called the *loss* function.  For the logistic regression problem, the loss function simplifies to:\n",
    "\n",
    "\n",
    "    f(w) = \\sum_i -y[i]z[i] + ln(1+exp(z[i])),  z[i] = w[0] + w[1]X[i,0] + ... + w[k]X[i,k-1].\n",
    "    \n",
    "To run a numerical optimizer in python, we need to implement a python function that returns `f(w)` and its gradient.  That is, we would like a function of the form:\n",
    "\n",
    "    def feval(w):\n",
    "        ...\n",
    "        return f, fgrad\n",
    "\n",
    "One issue is that the function `f(w)` also depends parameters `X` and `y`.  So, we need a way to pass those parameters to the function.  There are two approaches."
   ]
  },
  {
   "cell_type": "markdown",
   "metadata": {},
   "source": [
    "### Method 1.  Use a class method\n",
    "\n",
    "One approach to pass the parameters is to implement the function as a method in a class that contains the parameters.  In the code below, we create a class `LogisticFun` where the constructor takes the parameters `X` and `y`.  Then, the class method `feval` takes a variable `w` and computes the loss and its gradient."
   ]
  },
  {
   "cell_type": "code",
<<<<<<< HEAD
<<<<<<< HEAD
   "execution_count": 5,
   "metadata": {},
=======
   "execution_count": 11,
=======
   "execution_count": 5,
>>>>>>> 6c82df020f29da7fbd3f6344662b84994b519c8d
   "metadata": {
    "collapsed": true
   },
>>>>>>> b8dcbeb6477030d3328592a76cac08ff8424fdda
   "outputs": [],
   "source": [
    "class LogisticFun(object):\n",
    "    def __init__(self,X,y):\n",
    "        \"\"\"\n",
    "        Class for computes the loss and gradient for a logistic regression problem.\n",
    "        \n",
    "        The constructor takes the data matrix `X` and response vector y for training.\n",
    "        \"\"\"\n",
    "        self.X = X\n",
    "        self.y = y\n",
    "        n = X.shape[0]\n",
    "        self.A = np.column_stack((np.ones(n,), X))\n",
    "\n",
    "    def feval(self,w):\n",
    "        \"\"\"\n",
    "        Compute the loss and gradient for a given weight vector\n",
    "        \"\"\"\n",
    "        # The loss is the binary cross entropy\n",
    "        z = self.A.dot(w)\n",
    "        py = 1/(1+np.exp(-z))\n",
    "        f = np.sum((1-self.y)*z - np.log(py))\n",
    "        \n",
    "        # Gradient\n",
    "        df_dz = py-self.y\n",
    "        fgrad = self.A.T.dot(df_dz)\n",
    "        return f, fgrad"
   ]
  },
  {
   "cell_type": "markdown",
   "metadata": {},
   "source": [
    "Once we have defined the class we can create an *instance* of the class with the training data."
   ]
  },
  {
   "cell_type": "code",
<<<<<<< HEAD
<<<<<<< HEAD
   "execution_count": 6,
=======
   "execution_count": 12,
>>>>>>> b8dcbeb6477030d3328592a76cac08ff8424fdda
=======
   "execution_count": 6,
>>>>>>> 6c82df020f29da7fbd3f6344662b84994b519c8d
   "metadata": {
    "collapsed": true
   },
   "outputs": [],
   "source": [
    "log_fun = LogisticFun(Xtr,ytr)"
   ]
  },
  {
   "cell_type": "markdown",
   "metadata": {},
   "source": [
    "Then, we can call the method with only the value `w`."
   ]
  },
  {
   "cell_type": "code",
<<<<<<< HEAD
<<<<<<< HEAD
   "execution_count": 7,
=======
   "execution_count": 13,
>>>>>>> b8dcbeb6477030d3328592a76cac08ff8424fdda
   "metadata": {},
   "outputs": [
    {
     "name": "stdout",
     "output_type": "stream",
     "text": [
<<<<<<< HEAD
      "Actual f1-f0    =  -5.2453e-04\n",
      "Predicted f1-f0 =  -5.2453e-04\n"
=======
      "Actual f1-f0    =   3.3279e-04\n",
      "Predicted f1-f0 =   3.3279e-04\n"
>>>>>>> b8dcbeb6477030d3328592a76cac08ff8424fdda
     ]
    }
   ],
=======
   "execution_count": 7,
   "metadata": {},
   "outputs": [],
>>>>>>> 6c82df020f29da7fbd3f6344662b84994b519c8d
   "source": [
    "# Some random point\n",
    "p = X.shape[1]+1\n",
    "w0 = np.random.randn(p)\n",
    "\n",
    "# Call the function\n",
    "f, fgrad = log_fun.feval(w0)"
   ]
  },
  {
   "cell_type": "markdown",
   "metadata": {},
   "source": [
    "### Method 2.  Using Lambda functions\n",
    "\n",
    "An alternative method is to use python `lambda` functions.  The code below creates a function `feval_param` that has all the parameters.  Then, we use the `lambda` construction to fix the parameters `X` and `y`."
   ]
  },
  {
   "cell_type": "code",
   "execution_count": 8,
   "metadata": {
    "collapsed": true
   },
   "outputs": [],
   "source": [
    "# Create a function with all the parameters\n",
    "def feval_param(w,X,y):\n",
    "    \"\"\"\n",
    "    Compute the loss and gradient given w,X,y\n",
    "    \"\"\"\n",
    "    # Construct transform matrix\n",
    "    n = X.shape[0]\n",
    "    A = np.column_stack((np.ones(n,), X))\n",
    "\n",
    "    # The loss is the binary cross entropy\n",
    "    z = A.dot(w)\n",
    "    py = 1/(1+np.exp(-z))\n",
    "    f = np.sum((1-y)*z - np.log(py))\n",
    "\n",
    "    # Gradient\n",
    "    df_dz = py-y\n",
    "    fgrad = A.T.dot(df_dz)\n",
    "    return f, fgrad\n",
    "\n",
    "# Create a function with X,y fixed\n",
    "feval = lambda w: feval_param(w,Xtr,ytr)\n",
    "\n",
    "# You can now pass a parameter like w0\n",
    "f0, fgrad0 = feval(w0)"
   ]
  },
  {
   "cell_type": "markdown",
   "metadata": {},
   "source": [
    "### Testing the gradient\n",
    "\n",
    "Either way you create the function, it is very important to test if the gradient is correct.  This is the number one reason people's code does not work with numerical optimizers.  The simplest method is to take two points `w0` and `w1` that are close to one another and then verify that \n",
    "\n",
    "    f(w1) - f(w0) \\approx fgrad(w0).dot(w1 - w0)"
   ]
  },
  {
   "cell_type": "code",
   "execution_count": 9,
   "metadata": {},
   "outputs": [
    {
     "name": "stdout",
     "output_type": "stream",
     "text": [
      "Actual f1-f0    =  -4.6214e-03\n",
      "Predicted f1-f0 =  -4.6214e-03\n"
     ]
    }
   ],
   "source": [
    "# Take a random initial point\n",
    "p = X.shape[1]+1\n",
    "w0 = np.random.randn(p)\n",
    "\n",
    "# Perturb the point\n",
    "step = 1e-6\n",
    "w1 = w0 + step*np.random.randn(p)\n",
    "\n",
    "# Measure the function and gradient at w0 and w1\n",
    "f0, fgrad0 = log_fun.feval(w0)\n",
    "f1, fgrad1 = log_fun.feval(w1)\n",
    "\n",
    "# Predict the amount the function should have changed based on the gradient\n",
    "df_est = fgrad0.dot(w1-w0)\n",
    "\n",
    "# Print the two values to see if they are close\n",
    "print(\"Actual f1-f0    = %12.4e\" % (f1-f0))\n",
    "print(\"Predicted f1-f0 = %12.4e\" % df_est)"
   ]
  },
  {
   "cell_type": "markdown",
   "metadata": {},
   "source": [
    "You can see that the two agree well.  You would have got the same answer had you used the `feval` constructed in method 2."
   ]
  },
  {
   "cell_type": "markdown",
   "metadata": {},
   "source": [
    "## A Simple Gradient Descent Optimizer\n",
    "\n",
    "Now, we build a simple gradient descent optimizer function with a fixed learning rate."
   ]
  },
  {
   "cell_type": "code",
<<<<<<< HEAD
<<<<<<< HEAD
   "execution_count": 8,
   "metadata": {},
=======
   "execution_count": 18,
=======
   "execution_count": 10,
>>>>>>> 6c82df020f29da7fbd3f6344662b84994b519c8d
   "metadata": {
    "collapsed": true
   },
>>>>>>> b8dcbeb6477030d3328592a76cac08ff8424fdda
   "outputs": [],
   "source": [
    "def grad_opt_simp(feval, winit, lr=1e-3,nit=1000):\n",
    "    \"\"\"\n",
    "    Simple gradient descent optimization\n",
    "    \n",
    "    feval:  A function that returns f, fgrad, the objective\n",
    "            function and its gradient\n",
    "    winit:  Initial estimate\n",
    "    lr:     learning rate\n",
    "    nit:    Number of iterations\n",
    "    \"\"\"\n",
    "    # Initialize\n",
    "    w0 = winit\n",
    "    \n",
    "    # Create history dictionary for tracking progress per iteration.\n",
    "    # This isn't necessary if you just want the final answer, but it \n",
    "    # is useful for debugging\n",
    "    hist = {'w': [], 'f': []}\n",
    "    \n",
    "    # Loop over iterations\n",
    "    for it in range(nit):\n",
    "\n",
    "        # Evaluate the function and gradient\n",
    "        f0, fgrad0 = feval(w0)\n",
    "\n",
    "        # Take a gradient step\n",
    "        w0 = w0 - lr*fgrad0\n",
    "        \n",
    "         # Save history\n",
    "        hist['f'].append(f0)\n",
    "        hist['w'].append(w0)\n",
    "\n",
    "    # Convert to numpy arrays\n",
    "    for elem in ('f', 'w'):\n",
    "        hist[elem] = np.array(hist[elem])\n",
    "    return w0, f0, hist"
   ]
  },
  {
   "cell_type": "markdown",
   "metadata": {},
   "source": [
    "We now run the gradient descent starting from a random initial condition."
   ]
  },
  {
   "cell_type": "code",
<<<<<<< HEAD
<<<<<<< HEAD
   "execution_count": 9,
=======
   "execution_count": 26,
>>>>>>> b8dcbeb6477030d3328592a76cac08ff8424fdda
=======
   "execution_count": 11,
>>>>>>> 6c82df020f29da7fbd3f6344662b84994b519c8d
   "metadata": {},
   "outputs": [
    {
     "data": {
<<<<<<< HEAD
<<<<<<< HEAD
      "image/png": "iVBORw0KGgoAAAANSUhEUgAAAYEAAAEACAYAAABVtcpZAAAABHNCSVQICAgIfAhkiAAAAAlwSFlz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\nSUVORK5CYII=\n",
      "text/plain": [
       "<matplotlib.figure.Figure at 0x1815debe438>"
=======
      "image/png": "iVBORw0KGgoAAAANSUhEUgAAAYQAAAEECAYAAAAoDUMLAAAABHNCSVQICAgIfAhkiAAAAAlwSFlz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\nBDMzA5wQzMws5YRgZmYA/H+FEpMeKfCLjQAAAABJRU5ErkJggg==\n",
      "text/plain": [
       "<matplotlib.figure.Figure at 0x1f453a4bb70>"
>>>>>>> b8dcbeb6477030d3328592a76cac08ff8424fdda
=======
      "image/png": "iVBORw0KGgoAAAANSUhEUgAAAYQAAAEECAYAAAAoDUMLAAAABHNCSVQICAgIfAhkiAAAAAlwSFlz\nAAALEgAACxIB0t1+/AAAHohJREFUeJzt3XmYVOWVx/HvQQREkU0FBAVcUFwiRkM0mthqALcAjsoD\njoFGCBmTKDHGCJoRo9HBmIm4wrg2mMUlBkUEQYTSMUOUZwJBIwIT0wRciFFAgrggZ/54b2OJvVR3\nV9WtW/f3eZ56uuqte7tO+2Kfvufc+15zd0RERFrEHYCIiJQGJQQREQGUEEREJKKEICIigBKCiIhE\nlBBERATIMSGYWbWZ/cnMlprZi9FYRzObb2YrzWyembXP2n6ima02sxVmNjBr/ItmttzMVpnZlPz/\nOCIi0lS5HiFsByrc/Wh37x+NTQAWuPshwEJgIoCZHQYMA/oCpwN3mplF+0wFxrh7H6CPmQ3K088h\nIiLNlGtCsFq2HQJMj55PB4ZGzwcDD7r7NnevBlYD/c2sK9DO3ZdE283I2kdERGKWa0Jw4GkzW2Jm\nY6OxLu6+HsDd3wL2ica7A2uz9n09GusOrMsaXxeNiYhICWiZ43YnuPubZrY3MN/MVhKSRLa8rYFh\nZlpPQ0SkCdzdGt6qdjkdIbj7m9HXt4HHgP7AejPrAhCVg/4ebf46sF/W7j2isbrG6/rMWB+TJk0q\nie/XmP1y2ba+bep6rzHj+f7vluT5K+bcldP8lcLcFXv+GvteXds3V4MJwczamtke0fPdgYHAS8As\noDLabBTwePR8FjDczFqZWW/gIOBFD2WlTWbWP2oyj8zap+RUVFSUxPdrzH65bFvfNnW915jx6urq\nBmMohlKYv2LOXX3vJ23+SmHuGrtfof7fq+u9fP83qmENZZXol/pMQkmoJfArd59sZp2Ahwl/9a8B\nhrn7xmificAY4GNgvLvPj8aPAaqANsAcdx9fx2d6PrKdFF9lZSVVVVVxhyFNpPlLNjPDm1EyajAh\nxEEJIbkymUzB/nqRwtP8JZsSgoiIAM1PCFq6QvIqk8nEHYI0g+Yv3ZQQREQEUMlIRKRsqGQkIiJ5\noYQgeaUadLJp/tJNCUFERAD1EEREyoZ6CCIikhdKCJJXqkEnm+Yv3ZQQREQEUA9BRKRsqIcgIiJ5\noYQgeaUadLJp/tJNCUFERAD1EEREyoZ6CCIikhdKCJJXqkEnm+Yv3ZQQREQEUA9BRKRsqIcgIiJ5\noYQgeaUadLJp/tJNCUFERAD1EEREyoZ6CCIikhdKCJJXqkEnm+Yv3ZQQREQEUA9BRKRsqIcgIiJ5\noYQgeaUadLJp/tJNCUFERAD1EEREyoZ6CCIikhdKCJJXqkEnm+Yv3ZQQREQEKOEewscfOy1bxh2J\niEhyFK2HYGYtzOyPZjYret3RzOab2Uozm2dm7bO2nWhmq81shZkNzBr/opktN7NVZjalvs/71rdg\n+/am/EgiItIUjSkZjQdeyXo9AVjg7ocAC4GJAGZ2GDAM6AucDtxpZjUZayowxt37AH3MbFBdH7Zq\nFVx2GZTgAYzUQzXoZNP8pVtOCcHMegBnAPdkDQ8BpkfPpwNDo+eDgQfdfZu7VwOrgf5m1hVo5+5L\nou1mZO3zObNnw8KFcN11uf4oIiLSHLlW6W8GLgfaZ411cff1AO7+lpntE413BxZnbfd6NLYNWJc1\nvi4ar1XHjjB/Ppx4InToAJdckmOkEquKioq4Q5Bm0PylW4MJwczOBNa7+zIzq6hn07wWdyorK+nV\nqxdnnglXX92BN9/sx3/8R/j4msPamn+8eq3Xeq3XaXydyWSoqqoCoFevXjRXg2cZmdkNwAWEv/B3\nA9oBM4FjgQp3Xx+Vgxa5e18zmwC4u98Y7f8UMAlYU7NNND4cOMndL6rlMz9zpfKKFXDKKTBtGgwZ\n0uyfWQook8ns+IcryaP5S7aCn2Xk7le6+/7ufgAwHFjo7t8EngAqo81GAY9Hz2cBw82slZn1Bg4C\nXnT3t4BNZtY/ajKPzNqnXn37hp7Ct74V+goiIpJ/jboOwcxOAi5z98Fm1gl4GNiP8Nf/MHffGG03\nERgDfAyMd/f50fgxQBXQBpjj7uPr+Jxa1zJ69lk477yQHPr3z/2HFBFJg+YeIZTshWl1xTV7Nowd\nCwsWwBFHFDkwEZESlrrF7c46C37xCzjtNHjttbijkZ3VNLwkmTR/6ZbIxSHOPx82bYIBA+D556Fb\nt7gjEhFJvsSVjLLdcAP85jeht9CpUxECExEpYanrIWRzhx/9CP77v0NPYY89ihCciEiJSl0PIZsZ\n/OxncOSRMHQofPBB3BGJatDJpvlLt0QnBAhJYdq0UDIaMQK2bYs7IhGRZEp0ySjbRx/B4MHQtSvc\ndx+0SHyqExFpnFSXjLK1agWPPgqrV8MPfqBls0VEGqtsEgLA7ruHC9cWLYJrr407mnRSDTrZNH/p\nlsjrEOqz87LZ42tdHENERHZWNj2Ena1ZA1/9arjBzqhReQpMRKSENbeHUHZHCDV69oR588Ky2e3b\nh9NSRUSkbmXVQ9hZzbLZ48bBM8/EHU06qAadbJq/dCvrhABwzDHwyCMwfDi88ELc0YiIlK6y7SHs\nbPZsGDMmHClo2WwRKUe6DiFHZ50FN9+sZbNFROqSmoQAYdnsq64Ky2a/8Ubc0ZQn1aCTTfOXbmV7\nllFdLroINmyAgQPDstmdO8cdkYhIaUhNDyFbzbLZzz0Xls1u165gHyUiUjSpvh9Cc7iH01Ffew2e\nfBLatCnox4mIFJyayk1Us2x2585aNjufVINONs1fuqU2IQDssgv88pewdSuMHQvbt8cdkYhIfFJb\nMsq2ZQsMGgTHHhtOTbUmH3CJiMRHJaM8qFk2O5PRstkikl5KCJEOHcJieL/6FdxyS9zRJJdq0Mmm\n+Uu31F2HUJ8uXeDpp8Oy2R07wsiRcUckIlI86iHUYsWKkBSeew4OOyy2MEREGkU9hALo2xeuvz7c\nWEeno4pIWigh1GHcOOjUCSZPjjuSZFENOtk0f+mmhFAHM7j3Xrj1Vli2LO5oREQKTz2EBsyYAT//\nOSxZAq1bxx2NiEjd1EMosG9+Ew44QNcniEj5U0JogBn813+F8pFuwdkw1aCTTfOXbkoIOejSBW67\nLVyX8P77cUcjIlIY6iE0wogR0LVrWO9IRKTUFLyHYGatzewFM1tqZi+Z2aRovKOZzTezlWY2z8za\nZ+0z0cxWm9kKMxuYNf5FM1tuZqvMbEpTg47L7bfDww+HO62JiJSbBhOCu38InOzuRwP9gNPNrD8w\nAVjg7ocAC4GJAGZ2GDAM6AucDtxptmP90KnAGHfvA/Qxs0H5/oEKqXPn0E8YPRo2b447mtKkGnSy\naf7SLacegrvXVM5bE9Y/cmAIMD0anw4MjZ4PBh50923uXg2sBvqbWVegnbsvibabkbVPYpx1FlRU\nwOWXxx2JiEh+5ZQQzKyFmS0F3gKejn6pd3H39QDu/hawT7R5d2Bt1u6vR2PdgXVZ4+uiscS5+WaY\nOzesjiqfVVFREXcI0gyav3TL9Qhhe1Qy6kH4a/9wwlHCZzbLd3Clqn37cBrq2LGwcWPc0YiI5Eej\nlr929/fMLAOcBqw3sy7uvj4qB/092ux1YL+s3XpEY3WN16qyspJevXoB0KFDB/r167fjr5eaOmec\nr1u2hCFDKhg/HkaPjj+eUnmdXYMuhXj0WvNXzq8zmQxVVVUAO35fNkeDp52a2V7Ax+6+ycx2A+YB\nk4GTgHfd/UYzuwLo6O4Toqbyr4AvE0pCTwMHu7ub2R+AS4AlwJPAre7+VC2fWZKnne5syxY46qiw\ntMXQxHVDCiOTyez4hyvJo/lLtuaedppLQjiS0DRuET0ecvfrzawT8DDhr/41wDB33xjtMxEYA3wM\njHf3+dH4MUAV0AaY4+7j6/jMRCQEgOefh/POg+XLYe+9445GRNKs4AkhDklKCBDOOKquDtcoWJOn\nQkSkebS4XQm47jr485/hoYfijiR+2TVoSR7NX7opIeRBmzZhmezx4+HNN+OORkSkaVQyyqOrr4Y/\n/hGeeEKlIxEpPpWMSsiPfwyvvw733x93JCIijaeEkEetWoXS0RVXwJo1cUcTD9Wgk03zl25KCHl2\n5JFw2WVw4YWwfXvc0YiI5E49hALYtg1OPDHcfvO73407GhFJC12HUKJWroQTToDFi+Hgg+OORkTS\nQE3lEnXIIfDv/w6VlfDJJ3FHUzyqQSeb5i/dlBAK6OKLYddddctNEUkGlYwK7K9/hf79IZOBww+P\nOxoRKWcqGZW43r3D0hZjx6ardCQiyaOEUATjxoXS0dSpcUdSeKpBJ5vmL92UEIqgRQu46y645hpY\nu7bBzUVEYqEeQhFdey0sWQKzZmmtIxHJP/UQEmTCBHjtNXjkkbgjERH5PCWEImrVCu65B77/fdiw\nIe5oCkM16GTT/KWbEkKRHX88/Mu/hLusiYiUEvUQYvDee+GahBkz4OST445GRMqFeggJtOeecMcd\n4XTUrVvjjkZEJFBCiMngwdCvX7horZyoBp1smr90U0KI0W23hSbz8uVxRyIioh5C7O65J1y0tngx\n7LJL3NGISJKph5BwY8ZA27bhaEFEJE5KCDEzC0cIP/1pedyHWTXoZNP8pZsSQgno0wcuvRQuughS\nUikTkRKkHkKJ+OgjOPZYmDgRRoyIOxoRSSLdU7mMvPACDB0KL78MnTvHHY2IJI2aymXky1+GYcPg\nssvijqTpVINONs1fuikhlJif/hQWLYIFC+KORETSRiWjEvTkk3DJJfDSS+GUVBGRXKiHUKZGjID9\n94cbb4w7EhFJCvUQytSUKVBVBUuXxh1J46gGnWyav3RTQihRXbrATTdBZWU4JVVEpNBUMiph7jBk\nCBx1VPmtiioi+aceQpl7882wTPbs2fClL8UdjYiUsoL3EMysh5ktNLM/m9lLZnZJNN7RzOab2Uoz\nm2dm7bP2mWhmq81shZkNzBr/opktN7NVZjalqUGnSbduoZ9QWQkffBB3NA1TDTrZNH/plksPYRvw\nA3c/HDge+K6ZHQpMABa4+yHAQmAigJkdBgwD+gKnA3eaWU3GmgqMcfc+QB8zG5TXn6ZMDR8Ohx4K\n11wTdyQiUs4aXTIys8eA26PHSe6+3sy6Ahl3P9TMJgDu7jdG288FrgHWAAvd/bBofHi0/0W1fIZK\nRjv5+9/hC1+Axx6D446LOxoRKUVFPe3UzHoB/YA/AF3cfT2Au78F7BNt1h1Ym7Xb69FYd2Bd1vi6\naExysM8+cPvtMGqU7sMsIoXRMtcNzWwP4LfAeHf/p5nt/Cd8Xv+kr6yspFevXgB06NCBfv36UVFR\nAXxa50zb63PPreDRR2HUqAzf+U788dT2OrsGXQrx6LXmr5xfZzIZqqqqAHb8vmyOnEpGZtYSmA3M\ndfdborEVQEVWyWiRu/etpWT0FDCJUDJa5O59o3GVjJrgnXfgyCPhoYfgq1+NO5rPy2QyO/7hSvJo\n/pKtWCWj+4BXapJBZBZQGT0fBTyeNT7czFqZWW/gIODFqKy0ycz6R03mkVn7SI46d4apU2H0aNiy\nJe5oPk+/TJJN85duDR4hmNkJwHPAS4SykANXAi8CDwP7Ef76H+buG6N9JgJjgI8JJab50fgxQBXQ\nBpjj7uPr+EwdITRg5Eho3173YhaRT+nCtJTasCGUjh54AE4+Oe5oPqWSQ7Jp/pJNi9ulVMeOcNdd\ncOGFsHlz3NGISDnQEULCjRkDu+4K06bFHYmIxE0lo5TbtClcsHb33TBwYMPbi0j5Usko5dq3h3vu\ngbFjYePGuKPRWjhJp/lLNyWEMjBgAJx9djjzaPv2uKMRkaRSyahMfPRRONvojDPgqqvijkZE4qAe\nguzwxhvhngn33QeDtI6sSOqohyA77Lsv/OY3oXRUXR1PDKpBJ5vmL92UEMrM174GEybAOedoVVQR\naRyVjMqQO4wYAW3bwr33gjX5AFJEkkQlI/kcs3Aq6osvhusTRERyoYRQpvbYA373O/jxj0NiKBbV\noJNN85duSghlrE+fcIRw7rnw9ttxRyMipU49hBS48kp44QWYNw9a5nyPPBFJGvUQpEHXXQctWuiC\nNRGpnxJCCuyyS7g+YeZMuPxy+OSTwn2WatDJpvlLNyWElNhrL1i8GJYuhTPPDDfYERHJph5Cymzb\nBj/8IcyZA7NmwaGHxh2RiOSLegjSKC1bwpQpMHFiuKr5ySfjjkhESoUSQkqNHg2PPw7jxsHkyeHq\n5nxQDTrZNH/ppoSQYscfH05HffRROP98eP/9uCMSkTiphyBs3Qr/9m+waFG4ZmH0aGjdOu6oRKSx\n1EOQZtttN5g+HR55JDSaDz4Ypk2DDz+MOzIRKSYlBNnhy18OZx81JzGoBp1smr90U0KQz9k5MRx4\nYLjK+dVX445MRApJPQRp0PLlMGMG/PrX0KMHfPObMHw47L133JGJSDbdU1mKZts2eOYZeOABmD0b\nTjgBvvENOOuskChEJF5KCBKLzZvDRW2zZ8PcubD//iE5dOuW4dvfrqCFipGJlMlkqKioiDsMaSKd\nZSSxaNculI1++UtYvx5uvTU0nydPhn33hTFj4LHHYMuWuCMVkVzpCEHy7i9/CUcOs2eHC9++8hU4\n/XQ444xw5pKIFIZKRlLS3nsPFiwIZaU5c8I1D2ecERJERUV4LSL5oYQgJaW+GrR7OGNp7tzwWLoU\nTjzx06OHAw8sbqzyeeohJJt6CJIYZnDUUTBhAjz7LPztb3DhhZ8mhj594Pvfh4ULwxlNIlJcOkKQ\nkrB9O/zpT+HMpcceg+rqcDrr0KEwcCC0bRt3hCKlTyUjKUtr14bEMHMm/O//wqmnwjnnwODB4Qwn\nEfk8lYykpORrLZz99oOLLw7lo9degyFDwn2he/SAYcPgd7+DDz7Iy0dJFq1llG4NJgQzu9fM1pvZ\n8qyxjmY238xWmtk8M2uf9d5EM1ttZivMbGDW+BfNbLmZrTKzKfn/UaRcde4Mo0aF01hfew2+/nW4\n/Xbo1i2MP/NMKDmJSPM0WDIysxOBfwIz3P0L0diNwDvu/jMzuwLo6O4TzOww4FfAl4AewALgYHd3\nM3sB+J67LzGzOcAt7j6vjs9UyUga9MYb8NBDUFUVrpwePRoqK8PRhUgaFbxk5O7PAxt2Gh4CTI+e\nTweGRs8HAw+6+zZ3rwZWA/3NrCvQzt2XRNvNyNpHpEn23RcuvRSWLYOHH4Y334R+/eC008JKrbqf\ng0jjNLWHsI+7rwdw97eAfaLx7sDarO1ej8a6A+uyxtdFY1Jm4qhBm8Gxx8Kdd4Zm9AUXwNSpod/w\ngx/A//1f0UNKLPUQ0q1lnr5P3us7lZWV9OrVC4AOHTrQr1+/HRfM1Pyj1Wu93vl127bQo0eGq6+G\n/far4O674ZhjMhx2GFxzTQUDBsBzz5VOvHqt1815nclkqKqqAtjx+7I5cjrt1Mx6Ak9k9RBWABXu\nvj4qBy1y975mNgFwd78x2u4pYBKwpmabaHw4cJK7X1TH56mHIHmzdWu4l0PNAnzf+15oRuv0VSk3\nxTrt1KJHjVlAZfR8FPB41vhwM2tlZr2Bg4AXo7LSJjPrb2YGjMzaR6SgdtstrL66bBncdRdkMtCz\nJ1x+eWhMi0iQy2mnvwb+B+hjZn8zs9HAZGCAma0ETo1e4+6vAA8DrwBzgO9k/an/XeBeYBWw2t2f\nyvcPI/GrOZwtRWbwta/Bb38blsv46CM44ggYNw5Wr447utJQyvMnhacrlSWvMglbHO0f/4DbbgsN\n6VNOCessHX103FHFJ2nzJ5+lpStE8mDzZrj7bvjFL8JRw5VXhqMJkSRRQhDJow8/DHeBu+EG6N0b\nrr023OBHJAm0lpGUlKTXoFu3Dg3oV1+FESPg/PPD/RqWLGl433KQ9PmT5lFCEKnFrruGxLBqVVhh\n9eyzw9dly+KOTKRwVDISycEHH4RTVidPDiWkn/wEDj887qhEPkslI5EiaNMGLrkkLINx3HHhjKQL\nL4R16xreVyQplBAkr8q9Bt22Lfzwh6GU1K1buCXoFVfAhp2Xf0yocp8/qZ8SgkgTtG8P118Py5fD\nu+/CIYfAz3+um/ZIsqmHIJIHr7wSrl1YuhSuuw7+9V9hl13ijkrSRtchiJSQ55+HH/0I/vlPuPHG\ncG8Ga/L/niKNo6aylJS016BPPBF+//twFtKll8KppybrGoa0z1/aKSGI5JlZuG7h5Zdh+HAYOhTO\nOy80okVKmUpGIgX2/vtwyy3wn/8J554LkyaFM5RE8k0lI5ES17YtTJwIK1fCHnuExfOuugo2bYo7\nMpHPUkKQvFINum6dO4dTU5cuDTfmOfjgsLpqKZ2qqvlLNyUEkSLbf3+4/35YuDDcve2QQ2DGDPjk\nk7gjk7RTD0EkZs8/H6523rQp9BfOOQda6E81aQJdhyBSBtxh7txwuuqWLXD11aEBrcQgjaGmspQU\n1aCbxgzOOAP+8Ae46abQWzjySHjooeKWkjR/6aaEIFJCzMINeRYvDqepTpkSEsP994e7uYkUkkpG\nIiXMHZ55JiSHP/0JLr4Yvv1t6NQp7sikFKlkJFLGzODrXw/9hXnzwtXOBx0U7s3wl7/EHZ2UGyUE\nySvVoAunpnT08svhYrfjjoNBg2DmTNi2LT+foflLNyUEkYTZd99wK8+1a2HkyNCA7tkznLK6Zk3c\n0UmSqYcgUgZefhmmTYMHHwxLY1xwQThttUOHuCOTYtJ1CCKyw4cfhn7DAw/AggUwcCCcf34oLbVt\nG3d0UmhqKktJUQ06Xq1bh+W2H30UqqthwAC4446wuurZZ4clMt59t+79NX/ppoQgUqY6doRx48KR\nwl//GhLCzJnQqxecckq4o9vSpbB9e9yRSqlQyUgkZbZsCdc2PP00zJ8PGzaEI4kBA8Id3w48ULf9\nTCr1EESkWaqrQ3J45pmw0N62bfCVr8AJJ4SvRx2l/kNSKCFISclkMlRUVMQdhjTRokUZDjiggt//\nPtwbevFiWLECeveGo4+Gfv3C44gjoGtXHUmUmuYmhJb5DEZEks0sXNPQs2c4Owngo4/glVdg2bLw\nmD07JImtW8NNfvr0CY+DDw73eujRA7p3hzZt4v1ZpPF0hCAiTbJhA6xeHR6rVoWv69aFC+beeAP2\n3DMkhx49oEsX2Gsv2Hvv8DX70akTtGsHLfXnabOpZCQiJWf7dnj77U8TxNtvwz/+UfvjnXdg8+Zw\nRLHnniE57LnnZx/t2oX7Ue+2W+hn5PI1+3nLlukobykhSElRDyHZ4po/d3j/fXjvvc8+Nm8OXzdt\nCmdHbd0atqvta33vuYdrNFq3Dokn+2tTxprzfQp506PE9RDM7DRgCuEaiHvd/cZixyCFs2zZMiWE\nBItr/sxg993Do1u3/H//bdvCVdwffggffPD557mObdjQ/O/TsmXdSSb7Udd4Xdvtvnvz/zsVNSGY\nWQvgduBU4A1giZk97u6vFjMOKZyNGzfGHYI0Q7nOX8uW4ZGPX5rN4Q4ff1x3wsh+1DVe89i8OZTi\nal7n5cjD3Yv2AI4D5ma9ngBcUct2HrdFixaVxPdrzH65bFvfNnW915jxSZMmNRhDMZTC/BVz7up7\nP2nzVwpz19j9CvX/Xl3v1bV99Luzyb+ji710RXdgbdbrddFYycn3mi5N/X6N2S+Xbevbpq73GjNe\nXV3dYAzFUArzV8y5q+/9pM1fKcxdY/cr1P97db1XqDWnitpUNrNzgEHuPi56fQHQ390v2Wk7dZRF\nRJrAE9RUfh3YP+t1j2jsM5rzA4mISNMUu2S0BDjIzHqaWStgODCryDGIiEgtinqE4O6fmNn3gPl8\netrpimLGICIitSvJC9NERKT4dIMcEREBlBBERCSSiPUFzawtcCfwIfCsu/865pCkEcysN3AVsKe7\nD4s7HsmdmQ0BzgTaAfe5+9MxhySNYGaHAuOBzsBCd59W7/ZJ6CFE1ytscPcnzexBdx8ed0zSeGb2\nsBJCMplZB+Amd/9W3LFI45mZAdPdfWR928VSMjKze81svZkt32n8NDN71cxWmdkVWW/14NMrnD8p\nWqBSqybMn5SIZszdj4E7ihOl1KUp82dm3wBmA3Ma+v5x9RDuBwZlD2QtfDcIOBwYER3uQEgGPWo2\nLVaQUqfGzt+OzYoTntSj0XNnZpOBOe6+rJiBSq0aPX/u/oS7nwlc0NA3jyUhuPvzwIadhvsDq919\njbt/DDwIDInemwmca2Z3AE8UL1KpTWPnz8w6mdlUoJ+OHOLVhLm7mLA68blmNq6owcrnNGH+TjKz\nW8xsGvBkQ9+/lJrKtS181x/A3d8HLowjKMlZffP3LnBRHEFJTuqbu9uA2+IISnJW3/w9Czyb6zfS\naaciIgKUVkLIaeE7KVmav+TS3CVb3uYvzoRgfLbJqIXvkkXzl1yau2Qr2PzFddrpr4H/AfqY2d/M\nbLS7fwJcTFj47s/Ag1r4rjRp/pJLc5dshZ6/RFyYJiIihVdKPQQREYmREoKIiABKCCIiElFCEBER\nQAlBREQiSggiIgIoIYiISEQJQUREAPh/A/wjTQDtO94AAAAASUVORK5CYII=\n",
      "text/plain": [
       "<matplotlib.figure.Figure at 0x21d7c44d780>"
>>>>>>> 6c82df020f29da7fbd3f6344662b84994b519c8d
      ]
     },
     "metadata": {},
     "output_type": "display_data"
    }
   ],
   "source": [
    "# Initial condition\n",
    "winit = np.random.randn(p)\n",
    "\n",
    "# Parameters\n",
    "feval = log_fun.feval\n",
    "nit = 1000\n",
    "lr = 1e-4\n",
    "\n",
    "# Run the gradient descent\n",
    "w, f0, hist = grad_opt_simp(feval, winit, lr=lr, nit=nit)\n",
    "\n",
    "# Plot the training loss\n",
    "t = np.arange(nit)\n",
    "plt.semilogx(t, hist['f'])\n",
    "plt.grid()"
   ]
  },
  {
   "cell_type": "markdown",
   "metadata": {},
   "source": [
    "We can measure the accuracy of the final estimate by creating a predict method."
   ]
  },
  {
   "cell_type": "code",
<<<<<<< HEAD
<<<<<<< HEAD
   "execution_count": 10,
=======
   "execution_count": 27,
>>>>>>> b8dcbeb6477030d3328592a76cac08ff8424fdda
=======
   "execution_count": 12,
>>>>>>> 6c82df020f29da7fbd3f6344662b84994b519c8d
   "metadata": {},
   "outputs": [
    {
     "name": "stdout",
     "output_type": "stream",
     "text": [
      "Test accuracy = 0.968198\n"
     ]
    }
   ],
   "source": [
    "def predict(X,w):\n",
    "    z = X.dot(w[1:]) + w[0]\n",
    "    yhat = (z > 0)\n",
    "    return yhat\n",
    "\n",
    "yhat = predict(Xts,w)\n",
    "acc = np.mean(yhat == yts)\n",
    "print(\"Test accuracy = %f\" % acc)"
   ]
  },
  {
   "cell_type": "markdown",
   "metadata": {},
   "source": [
    "This is not quite as good as the test accuracy for the `sklearn` method, which was about 98.5%.  The reason is that the learning rate was somewhat slow and we didn't yet fully converge.\n",
    "\n",
    "To see the effect of the learning rate, the code below tries different learning rates."
   ]
  },
  {
   "cell_type": "code",
<<<<<<< HEAD
<<<<<<< HEAD
   "execution_count": 11,
=======
   "execution_count": 29,
>>>>>>> b8dcbeb6477030d3328592a76cac08ff8424fdda
=======
   "execution_count": 13,
>>>>>>> 6c82df020f29da7fbd3f6344662b84994b519c8d
   "metadata": {},
   "outputs": [
    {
     "name": "stdout",
     "output_type": "stream",
     "text": [
<<<<<<< HEAD
<<<<<<< HEAD
      "lr=    1.00e-05  Test accuracy = 0.840989\n",
=======
      "lr=    1.00e-05  Test accuracy = 0.681979\n",
>>>>>>> b8dcbeb6477030d3328592a76cac08ff8424fdda
      "lr=    1.00e-04  Test accuracy = 0.964664\n",
=======
      "lr=    1.00e-05  Test accuracy = 0.558304\n",
      "lr=    1.00e-04  Test accuracy = 0.968198\n",
>>>>>>> 6c82df020f29da7fbd3f6344662b84994b519c8d
      "lr=    1.00e-03  Test accuracy = 0.989399\n"
     ]
    },
    {
     "data": {
      "text/plain": [
<<<<<<< HEAD
<<<<<<< HEAD
       "<matplotlib.legend.Legend at 0x1815f3bea20>"
      ]
     },
     "execution_count": 11,
=======
       "<matplotlib.legend.Legend at 0x1f4538be358>"
      ]
     },
     "execution_count": 29,
>>>>>>> b8dcbeb6477030d3328592a76cac08ff8424fdda
=======
       "<matplotlib.legend.Legend at 0x21d7ca6e208>"
      ]
     },
     "execution_count": 13,
>>>>>>> 6c82df020f29da7fbd3f6344662b84994b519c8d
     "metadata": {},
     "output_type": "execute_result"
    },
    {
     "data": {
<<<<<<< HEAD
<<<<<<< HEAD
      "image/png": "iVBORw0KGgoAAAANSUhEUgAAAYEAAAEACAYAAABVtcpZAAAABHNCSVQICAgIfAhkiAAAAAlwSFlz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\nqoZpEVBKqRqmRUAppWqYFgGllKph/wfp3PNRryh3pQAAAABJRU5ErkJggg==\n",
      "text/plain": [
       "<matplotlib.figure.Figure at 0x1815f39e320>"
=======
      "image/png": "iVBORw0KGgoAAAANSUhEUgAAAYQAAAEECAYAAAAoDUMLAAAABHNCSVQICAgIfAhkiAAAAAlwSFlz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\n",
      "text/plain": [
       "<matplotlib.figure.Figure at 0x1f4538f4cf8>"
>>>>>>> b8dcbeb6477030d3328592a76cac08ff8424fdda
=======
      "image/png": "iVBORw0KGgoAAAANSUhEUgAAAYQAAAEECAYAAAAoDUMLAAAABHNCSVQICAgIfAhkiAAAAAlwSFlz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\nBAEQhSAIgiAkIgpBEARBAOD/AYqgqgLzbOKwAAAAAElFTkSuQmCC\n",
      "text/plain": [
       "<matplotlib.figure.Figure at 0x21d7ca6e5c0>"
>>>>>>> 6c82df020f29da7fbd3f6344662b84994b519c8d
      ]
     },
     "metadata": {},
     "output_type": "display_data"
    }
   ],
   "source": [
    "# Learning rate values to test\n",
    "lr_test = [1e-5,1e-4,1e-3]\n",
    "ntest = len(lr_test)\n",
    "\n",
    "# Strings for the legend\n",
    "leg_str = []\n",
    "\n",
    "for i, lr in enumerate(lr_test):\n",
    "    # Run the optimizer\n",
    "    w, f0, hist = grad_opt_simp(feval, winit, lr=lr, nit=nit)    \n",
    "    \n",
    "    # Plot the results\n",
    "    plt.semilogx(t, hist['f'])\n",
    "    leg_str.append(\"lr=%12.2e\" % lr)\n",
    "    \n",
    "    # Measure the test accuracy\n",
    "    yhat = predict(Xts,w)\n",
    "    acc = np.mean(yhat == yts)\n",
    "    print(\"lr=%12.2e  Test accuracy = %f\" % (lr, acc))\n",
    "    \n",
    "plt.grid()\n",
    "plt.legend(leg_str, loc='upper right')"
   ]
  },
  {
   "cell_type": "markdown",
   "metadata": {},
   "source": [
    "We see that increasing the learning rate, speeds the convergence time, but the optimization is beginning to go unstable."
   ]
  },
  {
   "cell_type": "markdown",
   "metadata": {},
   "source": [
    "## Adaptive Step Size\n",
    "\n",
    "The above example shows that gradient descent is sensitive to the step size.  We now consider a slight variant of gradient descent with an adaptive step-size using the Armijo rule in class."
   ]
  },
  {
   "cell_type": "code",
   "execution_count": null,
<<<<<<< HEAD
   "metadata": {},
=======
   "metadata": {
    "collapsed": true
   },
>>>>>>> b8dcbeb6477030d3328592a76cac08ff8424fdda
   "outputs": [],
   "source": []
  },
  {
   "cell_type": "code",
<<<<<<< HEAD
<<<<<<< HEAD
   "execution_count": 12,
   "metadata": {},
=======
   "execution_count": 30,
=======
   "execution_count": 14,
>>>>>>> 6c82df020f29da7fbd3f6344662b84994b519c8d
   "metadata": {
    "collapsed": true
   },
>>>>>>> b8dcbeb6477030d3328592a76cac08ff8424fdda
   "outputs": [],
   "source": [
    "def grad_opt_adapt(feval, winit, nit=1000, lr_init=1e-3):\n",
    "    \"\"\"\n",
    "    Gradient descent optimization with adaptive step size\n",
    "    \n",
    "    feval:  A function that returns f, fgrad, the objective\n",
    "            function and its gradient\n",
    "    winit:  Initial estimate\n",
    "    nit:    Number of iterations\n",
    "    lr:     Initial learning rate\n",
    "    \"\"\"\n",
    "    \n",
    "    # Set initial point\n",
    "    w0 = winit\n",
    "    f0, fgrad0 = feval(w0)\n",
    "    lr = lr_init\n",
    "    \n",
    "    # Create history dictionary for tracking progress per iteration.\n",
    "    # This isn't necessary if you just want the final answer, but it \n",
    "    # is useful for debugging\n",
    "    hist = {'lr': [], 'w': [], 'f': []}\n",
    "\n",
    "    for it in range(nit):\n",
    "\n",
    "        # Take a gradient step\n",
    "        w1 = w0 - lr*fgrad0\n",
    "\n",
    "        # Evaluate the test point by computing the objective function, f1,\n",
    "        # at the test point and the predicted decrease, df_est\n",
    "        f1, fgrad1 = feval(w1)\n",
    "        df_est = fgrad0.dot(w1-w0)\n",
    "        \n",
    "        # Check if test point passes the Armijo condition\n",
    "        alpha = 0.5\n",
    "        if (f1-f0 < alpha*df_est) and (f1 < f0):\n",
    "            # If descent is sufficient, accept the point and increase the\n",
    "            # learning rate\n",
    "            lr = lr*2\n",
    "            f0 = f1\n",
    "            fgrad0 = fgrad1\n",
    "            w0 = w1\n",
    "        else:\n",
    "            # Otherwise, decrease the learning rate\n",
    "            lr = lr/2            \n",
    "            \n",
    "        # Save history\n",
    "        hist['f'].append(f0)\n",
    "        hist['lr'].append(lr)\n",
    "        hist['w'].append(w0)\n",
    "\n",
    "    # Convert to numpy arrays\n",
    "    for elem in ('f', 'lr', 'w'):\n",
    "        hist[elem] = np.array(hist[elem])\n",
    "    return w0, f0, hist\n"
   ]
  },
  {
   "cell_type": "markdown",
   "metadata": {},
   "source": [
    "We can now run the new optimizer."
   ]
  },
  {
   "cell_type": "code",
<<<<<<< HEAD
<<<<<<< HEAD
   "execution_count": 13,
=======
   "execution_count": 31,
>>>>>>> b8dcbeb6477030d3328592a76cac08ff8424fdda
=======
   "execution_count": 15,
>>>>>>> 6c82df020f29da7fbd3f6344662b84994b519c8d
   "metadata": {},
   "outputs": [
    {
     "data": {
      "image/png": "iVBORw0KGgoAAAANSUhEUgAAAagAAAEYCAYAAAAJeGK1AAAABHNCSVQICAgIfAhkiAAAAAlwSFlz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\n",
      "text/plain": [
<<<<<<< HEAD
<<<<<<< HEAD
       "<matplotlib.text.Text at 0x1815e067b00>"
      ]
     },
     "execution_count": 13,
=======
       "<matplotlib.text.Text at 0x1f453769390>"
      ]
     },
     "execution_count": 31,
>>>>>>> b8dcbeb6477030d3328592a76cac08ff8424fdda
     "metadata": {},
     "output_type": "execute_result"
    },
    {
     "data": {
<<<<<<< HEAD
      "image/png": "iVBORw0KGgoAAAANSUhEUgAAAZIAAAEOCAYAAACjJpHCAAAABHNCSVQICAgIfAhkiAAAAAlwSFlz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\ngg==\n",
      "text/plain": [
       "<matplotlib.figure.Figure at 0x1815dfc7c18>"
=======
      "image/png": "iVBORw0KGgoAAAANSUhEUgAAAZYAAAETCAYAAAAVhSD9AAAABHNCSVQICAgIfAhkiAAAAAlwSFlz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\nAElFTkSuQmCC\n",
      "text/plain": [
       "<matplotlib.figure.Figure at 0x1f4538c1e80>"
>>>>>>> b8dcbeb6477030d3328592a76cac08ff8424fdda
=======
       "<matplotlib.figure.Figure at 0x21d7ccd6d30>"
>>>>>>> 6c82df020f29da7fbd3f6344662b84994b519c8d
      ]
     },
     "metadata": {},
     "output_type": "display_data"
    }
   ],
   "source": [
    "winit = np.random.randn(p)\n",
    "nit = 1000\n",
    "w, f0, hist = grad_opt_adapt(feval, winit, nit=nit)\n",
    "\n",
    "t = np.arange(nit)\n",
    "plt.subplot(2,1,1)\n",
    "plt.semilogx(t, hist['f'])\n",
    "plt.grid()\n",
    "plt.ylabel('Loss')\n",
    "\n",
    "plt.subplot(2,1,2)\n",
    "plt.loglog(t, hist['lr'])\n",
    "plt.grid()\n",
    "plt.ylabel('Learning rate')\n",
    "plt.xlabel('Iteration')\n",
    "\n",
    "plt.tight_layout()"
   ]
  },
  {
   "cell_type": "markdown",
   "metadata": {},
   "source": [
    "Finally we measure the accuracy."
   ]
  },
  {
   "cell_type": "code",
<<<<<<< HEAD
<<<<<<< HEAD
   "execution_count": 14,
=======
   "execution_count": 32,
>>>>>>> b8dcbeb6477030d3328592a76cac08ff8424fdda
=======
   "execution_count": 16,
>>>>>>> 6c82df020f29da7fbd3f6344662b84994b519c8d
   "metadata": {},
   "outputs": [
    {
     "name": "stdout",
     "output_type": "stream",
     "text": [
      "Test accuracy = 0.989399\n"
     ]
    }
   ],
   "source": [
    "yhat = predict(Xts,w)\n",
    "acc = np.mean(yhat == yts)\n",
    "print(\"Test accuracy = %f\" % acc)"
   ]
  },
  {
   "cell_type": "markdown",
   "metadata": {},
   "source": [
    "## In-Class Exercise\n",
    "\n",
    "Try to a build a simple optimizer to minimize:\n",
    "\n",
    "    f(w) = a[0] + a[1]*w + a[2]*w^2 + ... + a[d]*w^d\n",
    "    \n",
    "for the coefficients `a = [0,0.5,-2,0,1]`.\n",
    "\n",
    "* Plot the function f(w)\n",
    "* Can you see where the minima is?\n",
    "* Write a function that outputs f(w) and its gradient.\n",
    "* Run the optimizer on the function to see if it finds the minima.\n",
    "* Print the funciton value and number of iterations.\n",
    "* Bonus:  Instead of writing the function for a specific coefficient vector `a`, create a class that works for an arbitrary vector `a`.\n",
    "\n",
    "You may wish to use the `poly.polyval(w,a)` method to evaluate the polynomial."
   ]
  },
  {
   "cell_type": "code",
<<<<<<< HEAD
<<<<<<< HEAD
   "execution_count": 16,
   "metadata": {},
   "outputs": [
    {
     "data": {
      "image/png": "iVBORw0KGgoAAAANSUhEUgAAAXYAAAD8CAYAAABjAo9vAAAABHNCSVQICAgIfAhkiAAAAAlwSFlz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\nBjsRkc0w2ImIbIbBTkRkM/8H4+Gte4e4AqUAAAAASUVORK5CYII=\n",
      "text/plain": [
       "<matplotlib.figure.Figure at 0x1815dfe2f28>"
      ]
     },
     "metadata": {},
     "output_type": "display_data"
    },
    {
     "data": {
      "text/plain": [
       "-1.5147067131790399"
      ]
     },
     "execution_count": 16,
     "metadata": {},
     "output_type": "execute_result"
    }
   ],
=======
   "execution_count": 24,
=======
   "execution_count": 17,
>>>>>>> 6c82df020f29da7fbd3f6344662b84994b519c8d
   "metadata": {
    "collapsed": true
   },
   "outputs": [],
>>>>>>> b8dcbeb6477030d3328592a76cac08ff8424fdda
   "source": [
    "import numpy.polynomial.polynomial as poly\n",
    "a = np.array([0,0.5,-2,0,1])\n",
    "x = np.linspace(-3,3,100)\n",
    "y = poly.polyval(x,a)\n",
    "plt.plot(x,y)\n",
    "plt.ylim([-2,10])\n",
    "plt.show()\n",
    "np.min(y)"
   ]
  },
  {
   "cell_type": "code",
   "execution_count": null,
   "metadata": {
    "collapsed": true
   },
   "outputs": [],
   "source": []
  }
 ],
 "metadata": {
  "anaconda-cloud": {},
  "kernelspec": {
   "display_name": "Python 3",
   "language": "python",
   "name": "python3"
  },
  "language_info": {
   "codemirror_mode": {
    "name": "ipython",
    "version": 3
   },
   "file_extension": ".py",
   "mimetype": "text/x-python",
   "name": "python",
   "nbconvert_exporter": "python",
   "pygments_lexer": "ipython3",
<<<<<<< HEAD
   "version": "3.6.1"
=======
   "version": "3.5.4"
>>>>>>> b8dcbeb6477030d3328592a76cac08ff8424fdda
  }
 },
 "nbformat": 4,
 "nbformat_minor": 1
}
