{
 "cells": [
  {
   "cell_type": "markdown",
   "metadata": {},
   "source": [
    "# Problem 2"
   ]
  },
  {
   "cell_type": "code",
   "execution_count": 249,
   "metadata": {
    "collapsed": true
   },
   "outputs": [],
   "source": [
    "import numpy as np\n",
    "import matplotlib.pyplot as plt\n",
    "%matplotlib inline\n",
    "x = [0,1.3,2.1,2.8,4.2,5.7]\n",
    "y = [-1,-1,-1,1,-1,1]\n",
    "\n",
    "t = np.arange(0.0,5.0,0.05)\n",
    "\n",
    "for i in range(0,len(t)):\n",
    "    Epsilon = np.zeros(6)\n",
    "    ep = 1 - (y * (x - t[i]))\n",
    "    for j in range (0,len(Epsilon)):\n",
    "        Epsilon[j] = max(0,ep[j])\n",
    "    J[i] = np.sum(Epsilon) "
   ]
  },
  {
   "cell_type": "markdown",
   "metadata": {},
   "source": [
    "**Part a) and  Part b)**"
   ]
  },
  {
   "cell_type": "code",
   "execution_count": 250,
   "metadata": {},
   "outputs": [
    {
     "name": "stdout",
     "output_type": "stream",
     "text": [
      "The value of t that minimizes J(t) is  3.1\n"
     ]
    },
    {
     "data": {
      "image/png": "[encoded data removed]",
      "text/plain": [
       "<matplotlib.figure.Figure at 0x133edfa56a0>"
      ]
     },
     "metadata": {},
     "output_type": "display_data"
    }
   ],
   "source": [
    "plt.plot(t,J)\n",
    "plt.xlabel(\"t\")\n",
    "plt.ylabel(\"Hinge loss J(t)\")\n",
    "plt.title(\"HInge Loss J(t) vs  t\")\n",
    "plt.grid()\n",
    "t_min = t[np.argmin(J)]\n",
    "print(\"The value of t that minimizes J(t) is \", t_min)"
   ]
  },
  {
   "cell_type": "markdown",
   "metadata": {},
   "source": [
    "**Part c) and Part d)**  "
   ]
  },
  {
   "cell_type": "code",
   "execution_count": 251,
   "metadata": {},
   "outputs": [
    {
     "name": "stdout",
     "output_type": "stream",
     "text": [
      "The slack variable is [ 0.   0.   0.   1.3  2.1  0. ]\n"
     ]
    }
   ],
   "source": [
    "Hinge_loss = np.zeros(6)\n",
    "\n",
    "z = (x - t_min)\n",
    "yz = y*z                                 # The yz parameter\n",
    "\n",
    "for i in range (0,len(Hinge_loss)):\n",
    "    Hinge_loss[i] = max(0,(1 - yz)[i])   # Slack varianle\n",
    "   \n",
    "print(\"The slack variable is\" ,Hinge_loss)"
   ]
  },
  {
   "cell_type": "markdown",
   "metadata": {},
   "source": [
    "As we can see the the samples 4 and 5 are misclassifed , the remaining samples are on the correct side of the margin. There are no samples that violate the margin. "
   ]
  },
  {
   "cell_type": "markdown",
   "metadata": {},
   "source": [
    "# Problem 4"
   ]
  },
  {
   "cell_type": "code",
   "execution_count": 252,
   "metadata": {
    "collapsed": true
   },
   "outputs": [],
   "source": [
    "#Initial data\n",
    "x = [0,1,2,3]\n",
    "y = [1,-1,1,-1]"
   ]
  },
  {
   "cell_type": "code",
   "execution_count": 253,
   "metadata": {},
   "outputs": [
    {
     "data": {
      "text/plain": [
       "<matplotlib.text.Text at 0x133ee0aed68>"
      ]
     },
     "execution_count": 253,
     "metadata": {},
     "output_type": "execute_result"
    },
    {
     "data": {
      "image/png": "[encoded data removed]",
      "text/plain": [
       "<matplotlib.figure.Figure at 0x133ee00a6a0>"
      ]
     },
     "metadata": {},
     "output_type": "display_data"
    }
   ],
   "source": [
    "plt.scatter(x,y)\n",
    "plt.xlabel(\"x\")\n",
    "plt.ylabel(\"y\")\n",
    "plt.title(\"x vs y -- Original Data\")"
   ]
  },
  {
   "cell_type": "code",
   "execution_count": 254,
   "metadata": {
    "collapsed": true
   },
   "outputs": [],
   "source": [
    "def classifier(alpha,gamma):\n",
    "    \"\"\"\n",
    "    Classifier formula\n",
    "    \"\"\"\n",
    "    K= np.zeros(4)\n",
    "    z= np.zeros(4)\n",
    "    yhat = np.zeros(4)\n",
    "    for i in range(0,len(x)): \n",
    "        K[i]= np.e**(-gamma*(x[i]-i)**2)\n",
    "        z[i] = alpha[i]*y[i]*K[i]\n",
    "        if (z[i]<0):\n",
    "            yhat1[i] = -1 \n",
    "        else :\n",
    "            yhat[i] = +1\n",
    "    return yhat,z"
   ]
  },
  {
   "cell_type": "code",
   "execution_count": 255,
   "metadata": {
    "collapsed": true
   },
   "outputs": [],
   "source": [
    "#Classifier 1\n",
    "alpha1 = [0,0,1,1]\n",
    "gamma1 = 3\n",
    "yhat1,z1 = classifier(alpha1,gamma1)"
   ]
  },
  {
   "cell_type": "markdown",
   "metadata": {},
   "source": [
    "**part a)**"
   ]
  },
  {
   "cell_type": "code",
   "execution_count": 256,
   "metadata": {},
   "outputs": [
    {
     "data": {
      "text/plain": [
       "<matplotlib.text.Text at 0x133ee1cccf8>"
      ]
     },
     "execution_count": 256,
     "metadata": {},
     "output_type": "execute_result"
    },
    {
     "data": {
      "image/png": "[encoded data removed]",
      "text/plain": [
       "<matplotlib.figure.Figure at 0x133ee112ac8>"
      ]
     },
     "metadata": {},
     "output_type": "display_data"
    }
   ],
   "source": [
    "f, (ax1, ax2) = plt.subplots(1, 2)\n",
    "ax1.scatter(x,z1 )\n",
    "ax1.set_title(\"z vs x\")\n",
    "#ax1.set_ylabel(\"z\")\n",
    "ax2.scatter(x,yhat1)\n",
    "ax2.set_title(\"yhat vs x\")\n",
    "#ax2.set_ylabel(\"yhat\")"
   ]
  },
  {
   "cell_type": "code",
   "execution_count": 257,
   "metadata": {
    "collapsed": true
   },
   "outputs": [],
   "source": [
    "#Classifier 2\n",
    "alpha2 = [1,1,1,1]\n",
    "gamma2 = 0.3\n",
    "yhat2,z2 = classifier(alpha2,gamma2)"
   ]
  },
  {
   "cell_type": "markdown",
   "metadata": {},
   "source": [
    "**part b)**"
   ]
  },
  {
   "cell_type": "code",
   "execution_count": 258,
   "metadata": {},
   "outputs": [
    {
     "data": {
      "text/plain": [
       "<matplotlib.text.Text at 0x133ec5e9630>"
      ]
     },
     "execution_count": 258,
     "metadata": {},
     "output_type": "execute_result"
    },
    {
     "data": {
      "image/png": "[encoded data removed]",
      "text/plain": [
       "<matplotlib.figure.Figure at 0x133ee243780>"
      ]
     },
     "metadata": {},
     "output_type": "display_data"
    }
   ],
   "source": [
    "f, (ax1, ax2) = plt.subplots(1, 2)\n",
    "ax1.scatter(x,z2 )\n",
    "ax1.set_title(\"z vs x\")\n",
    "#ax1.set_ylabel(\"z\")\n",
    "ax2.scatter(x,yhat2)\n",
    "ax2.set_title(\"yhat vs x\")"
   ]
  },
  {
   "cell_type": "markdown",
   "metadata": {},
   "source": [
    "**part c)**"
   ]
  },
  {
   "cell_type": "markdown",
   "metadata": {},
   "source": [
    "When we compare the plots of yhat vs x with the original y vs x , we can say that classifier 1 makes more errors on the training data "
   ]
  }
 ],
 "metadata": {
  "kernelspec": {
   "display_name": "Python 3",
   "language": "python",
   "name": "python3"
  },
  "language_info": {
   "codemirror_mode": {
    "name": "ipython",
    "version": 3
   },
   "file_extension": ".py",
   "mimetype": "text/x-python",
   "name": "python",
   "nbconvert_exporter": "python",
   "pygments_lexer": "ipython3",
   "version": "3.6.3"
  }
 },
 "nbformat": 4,
 "nbformat_minor": 2
}
